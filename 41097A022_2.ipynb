{
  "nbformat": 4,
  "nbformat_minor": 0,
  "metadata": {
    "colab": {
      "provenance": []
    },
    "kernelspec": {
      "name": "python3",
      "display_name": "Python 3"
    },
    "language_info": {
      "name": "python"
    }
  },
  "cells": [
    {
      "cell_type": "code",
      "source": [
        "!pip install scikit-surprise"
      ],
      "metadata": {
        "colab": {
          "base_uri": "https://localhost:8080/"
        },
        "id": "pxv6NABwG4Gc",
        "outputId": "b59a88f4-2823-484b-b0bd-cf0461d0ed0d"
      },
      "execution_count": null,
      "outputs": [
        {
          "output_type": "stream",
          "name": "stdout",
          "text": [
            "Looking in indexes: https://pypi.org/simple, https://us-python.pkg.dev/colab-wheels/public/simple/\n",
            "Requirement already satisfied: scikit-surprise in /usr/local/lib/python3.8/dist-packages (1.1.3)\n",
            "Requirement already satisfied: numpy>=1.17.3 in /usr/local/lib/python3.8/dist-packages (from scikit-surprise) (1.21.6)\n",
            "Requirement already satisfied: joblib>=1.0.0 in /usr/local/lib/python3.8/dist-packages (from scikit-surprise) (1.2.0)\n",
            "Requirement already satisfied: scipy>=1.3.2 in /usr/local/lib/python3.8/dist-packages (from scikit-surprise) (1.7.3)\n"
          ]
        }
      ]
    },
    {
      "cell_type": "markdown",
      "source": [
        "以 surprise model 做 模型預測 與 用 SVD 奇異值分解 當比較"
      ],
      "metadata": {
        "id": "QOiYnvq1jGVT"
      }
    },
    {
      "cell_type": "code",
      "execution_count": null,
      "metadata": {
        "id": "jfpwJl7tyL_y"
      },
      "outputs": [],
      "source": [
        "import os\n",
        "from surprise import SVD\n",
        "from surprise import Dataset\n",
        "from surprise import Reader\n",
        "from surprise import accuracy\n",
        "from surprise.model_selection import PredefinedKFold"
      ]
    },
    {
      "cell_type": "code",
      "source": [
        "!wget -nc http://files.grouplens.org/datasets/movielens/ml-100k.zip\n",
        "!unzip -n ml-100k.zip"
      ],
      "metadata": {
        "colab": {
          "base_uri": "https://localhost:8080/"
        },
        "id": "bpO11OHRHoxa",
        "outputId": "f2899789-d23a-44f3-eb2f-1beb5c545d40"
      },
      "execution_count": null,
      "outputs": [
        {
          "output_type": "stream",
          "name": "stdout",
          "text": [
            "File ‘ml-100k.zip’ already there; not retrieving.\n",
            "\n",
            "Archive:  ml-100k.zip\n"
          ]
        }
      ]
    },
    {
      "cell_type": "code",
      "source": [
        "files_dir = ('ml-100k/')\n",
        "reader = Reader('ml-100k')\n",
        "\n",
        "\n",
        "train_file = files_dir + 'u%d.base'\n",
        "test_file = files_dir + 'u%d.test'\n",
        "folds_files = [(train_file % i, test_file % i) for i in (1, 2, 3, 4, 5)]\n",
        "\n",
        "#載入數據集\n",
        "data = Dataset.load_from_folds(folds_files, reader=reader)\n",
        "pkf = PredefinedKFold()\n",
        "\n",
        "algo = SVD()\n",
        "\n",
        "for trainset, testset in pkf.split(data):\n",
        "    # 訓練與測試\n",
        "    algo.fit(trainset)\n",
        "    predictions = algo.test(testset)\n",
        "\n",
        "    # 計算均方根誤差\n",
        "    accuracy.rmse(predictions, verbose=True)\n"
      ],
      "metadata": {
        "colab": {
          "base_uri": "https://localhost:8080/"
        },
        "id": "bRDY3M9EGrhg",
        "outputId": "e27352c2-a01c-423b-ff3d-b7f64d4c8a5e"
      },
      "execution_count": null,
      "outputs": [
        {
          "output_type": "stream",
          "name": "stdout",
          "text": [
            "RMSE: 0.9543\n",
            "RMSE: 0.9409\n",
            "RMSE: 0.9331\n",
            "RMSE: 0.9326\n",
            "RMSE: 0.9348\n"
          ]
        }
      ]
    },
    {
      "cell_type": "code",
      "source": [
        "import pandas as pd\n",
        "#Load u.data \n",
        "rating_header = [\"user_id\",\"item_id\",\"rating\",\"timestamp\"]\n",
        "rating = pd.read_csv(\"ml-100k/u.data\",sep=\"\\t\",header = None , names=rating_header)\n",
        "\n",
        "uid = str(880)\n",
        "iid = str(476)\n",
        "#display(rating)\n",
        "m1 = rating['item_id']==476\n",
        "m2 = rating['user_id']==880\n",
        "display(rating[m1&m2])\n",
        "pred = algo.predict(uid,iid,r_ui=3,verbose=True)\n"
      ],
      "metadata": {
        "colab": {
          "base_uri": "https://localhost:8080/",
          "height": 99
        },
        "id": "wmZ0yI-qJe0R",
        "outputId": "4d7daaf3-7d59-4008-93fb-2ac6c4d8b10f"
      },
      "execution_count": null,
      "outputs": [
        {
          "output_type": "display_data",
          "data": {
            "text/plain": [
              "       user_id  item_id  rating  timestamp\n",
              "99995      880      476       3  880175444"
            ],
            "text/html": [
              "\n",
              "  <div id=\"df-b117d2c6-5ee8-4151-855a-ca1f72f4551a\">\n",
              "    <div class=\"colab-df-container\">\n",
              "      <div>\n",
              "<style scoped>\n",
              "    .dataframe tbody tr th:only-of-type {\n",
              "        vertical-align: middle;\n",
              "    }\n",
              "\n",
              "    .dataframe tbody tr th {\n",
              "        vertical-align: top;\n",
              "    }\n",
              "\n",
              "    .dataframe thead th {\n",
              "        text-align: right;\n",
              "    }\n",
              "</style>\n",
              "<table border=\"1\" class=\"dataframe\">\n",
              "  <thead>\n",
              "    <tr style=\"text-align: right;\">\n",
              "      <th></th>\n",
              "      <th>user_id</th>\n",
              "      <th>item_id</th>\n",
              "      <th>rating</th>\n",
              "      <th>timestamp</th>\n",
              "    </tr>\n",
              "  </thead>\n",
              "  <tbody>\n",
              "    <tr>\n",
              "      <th>99995</th>\n",
              "      <td>880</td>\n",
              "      <td>476</td>\n",
              "      <td>3</td>\n",
              "      <td>880175444</td>\n",
              "    </tr>\n",
              "  </tbody>\n",
              "</table>\n",
              "</div>\n",
              "      <button class=\"colab-df-convert\" onclick=\"convertToInteractive('df-b117d2c6-5ee8-4151-855a-ca1f72f4551a')\"\n",
              "              title=\"Convert this dataframe to an interactive table.\"\n",
              "              style=\"display:none;\">\n",
              "        \n",
              "  <svg xmlns=\"http://www.w3.org/2000/svg\" height=\"24px\"viewBox=\"0 0 24 24\"\n",
              "       width=\"24px\">\n",
              "    <path d=\"M0 0h24v24H0V0z\" fill=\"none\"/>\n",
              "    <path d=\"M18.56 5.44l.94 2.06.94-2.06 2.06-.94-2.06-.94-.94-2.06-.94 2.06-2.06.94zm-11 1L8.5 8.5l.94-2.06 2.06-.94-2.06-.94L8.5 2.5l-.94 2.06-2.06.94zm10 10l.94 2.06.94-2.06 2.06-.94-2.06-.94-.94-2.06-.94 2.06-2.06.94z\"/><path d=\"M17.41 7.96l-1.37-1.37c-.4-.4-.92-.59-1.43-.59-.52 0-1.04.2-1.43.59L10.3 9.45l-7.72 7.72c-.78.78-.78 2.05 0 2.83L4 21.41c.39.39.9.59 1.41.59.51 0 1.02-.2 1.41-.59l7.78-7.78 2.81-2.81c.8-.78.8-2.07 0-2.86zM5.41 20L4 18.59l7.72-7.72 1.47 1.35L5.41 20z\"/>\n",
              "  </svg>\n",
              "      </button>\n",
              "      \n",
              "  <style>\n",
              "    .colab-df-container {\n",
              "      display:flex;\n",
              "      flex-wrap:wrap;\n",
              "      gap: 12px;\n",
              "    }\n",
              "\n",
              "    .colab-df-convert {\n",
              "      background-color: #E8F0FE;\n",
              "      border: none;\n",
              "      border-radius: 50%;\n",
              "      cursor: pointer;\n",
              "      display: none;\n",
              "      fill: #1967D2;\n",
              "      height: 32px;\n",
              "      padding: 0 0 0 0;\n",
              "      width: 32px;\n",
              "    }\n",
              "\n",
              "    .colab-df-convert:hover {\n",
              "      background-color: #E2EBFA;\n",
              "      box-shadow: 0px 1px 2px rgba(60, 64, 67, 0.3), 0px 1px 3px 1px rgba(60, 64, 67, 0.15);\n",
              "      fill: #174EA6;\n",
              "    }\n",
              "\n",
              "    [theme=dark] .colab-df-convert {\n",
              "      background-color: #3B4455;\n",
              "      fill: #D2E3FC;\n",
              "    }\n",
              "\n",
              "    [theme=dark] .colab-df-convert:hover {\n",
              "      background-color: #434B5C;\n",
              "      box-shadow: 0px 1px 3px 1px rgba(0, 0, 0, 0.15);\n",
              "      filter: drop-shadow(0px 1px 2px rgba(0, 0, 0, 0.3));\n",
              "      fill: #FFFFFF;\n",
              "    }\n",
              "  </style>\n",
              "\n",
              "      <script>\n",
              "        const buttonEl =\n",
              "          document.querySelector('#df-b117d2c6-5ee8-4151-855a-ca1f72f4551a button.colab-df-convert');\n",
              "        buttonEl.style.display =\n",
              "          google.colab.kernel.accessAllowed ? 'block' : 'none';\n",
              "\n",
              "        async function convertToInteractive(key) {\n",
              "          const element = document.querySelector('#df-b117d2c6-5ee8-4151-855a-ca1f72f4551a');\n",
              "          const dataTable =\n",
              "            await google.colab.kernel.invokeFunction('convertToInteractive',\n",
              "                                                     [key], {});\n",
              "          if (!dataTable) return;\n",
              "\n",
              "          const docLinkHtml = 'Like what you see? Visit the ' +\n",
              "            '<a target=\"_blank\" href=https://colab.research.google.com/notebooks/data_table.ipynb>data table notebook</a>'\n",
              "            + ' to learn more about interactive tables.';\n",
              "          element.innerHTML = '';\n",
              "          dataTable['output_type'] = 'display_data';\n",
              "          await google.colab.output.renderOutput(dataTable, element);\n",
              "          const docLink = document.createElement('div');\n",
              "          docLink.innerHTML = docLinkHtml;\n",
              "          element.appendChild(docLink);\n",
              "        }\n",
              "      </script>\n",
              "    </div>\n",
              "  </div>\n",
              "  "
            ]
          },
          "metadata": {}
        },
        {
          "output_type": "stream",
          "name": "stdout",
          "text": [
            "user: 880        item: 476        r_ui = 3.00   est = 3.53   {'was_impossible': True, 'reason': 'User and/or item is unknown.'}\n"
          ]
        }
      ]
    },
    {
      "cell_type": "code",
      "source": [
        "from surprise import Reader, Dataset, SVD, NormalPredictor, BaselineOnly, KNNBasic, NMF\n",
        "from surprise.model_selection import cross_validate, KFold ,GridSearchCV , RandomizedSearchCV\n",
        "\n",
        "reader = Reader(rating_scale=(1, 5))\n",
        "sup_data = Dataset.load_from_df(rating[['user_id', 'item_id', 'rating']], reader)\n",
        "\n",
        "algo = NormalPredictor()\n",
        "cross_validate(algo, sup_data,measures=['RMSE', 'MAE'], cv=5, verbose=True)\n",
        "\n",
        "for trainset, testset in pkf.split(data):\n",
        "    # 訓練與測試\n",
        "    algo.fit(trainset)\n",
        "    predictions = algo.test(testset)\n",
        "\n",
        "    # 計算均方根誤差\n",
        "    accuracy.rmse(predictions, verbose=True)\n",
        "pred = algo.predict(uid,iid,r_ui=3,verbose=True)\n"
      ],
      "metadata": {
        "colab": {
          "base_uri": "https://localhost:8080/"
        },
        "id": "bJvsKcfAMmAu",
        "outputId": "f00079e7-2e58-47d1-da3b-747c4948672b"
      },
      "execution_count": null,
      "outputs": [
        {
          "output_type": "stream",
          "name": "stdout",
          "text": [
            "Evaluating RMSE, MAE of algorithm NormalPredictor on 5 split(s).\n",
            "\n",
            "                  Fold 1  Fold 2  Fold 3  Fold 4  Fold 5  Mean    Std     \n",
            "RMSE (testset)    1.5179  1.5219  1.5185  1.5266  1.5184  1.5207  0.0033  \n",
            "MAE (testset)     1.2173  1.2215  1.2163  1.2232  1.2145  1.2186  0.0033  \n",
            "Fit time          0.16    0.62    0.23    0.25    0.24    0.30    0.16    \n",
            "Test time         0.32    0.54    0.36    0.18    0.18    0.31    0.14    \n",
            "RMSE: 1.5257\n",
            "RMSE: 1.5275\n",
            "RMSE: 1.5072\n",
            "RMSE: 1.5070\n",
            "RMSE: 1.5208\n",
            "user: 880        item: 476        r_ui = 3.00   est = 3.74   {'was_impossible': False}\n"
          ]
        }
      ]
    },
    {
      "cell_type": "code",
      "source": [
        "def print_predict():\n",
        "  uid = str(880)\n",
        "  iid = str(476)\n",
        "  #display(rating)\n",
        "  m1 = rating['item_id']==476\n",
        "  m2 = rating['user_id']==880\n",
        "  #display(rating[m1&m2])\n",
        "  pred = algo.predict(uid,iid,r_ui=3,verbose=True)"
      ],
      "metadata": {
        "id": "2rXJCe8KPEq_"
      },
      "execution_count": null,
      "outputs": []
    },
    {
      "cell_type": "code",
      "source": [
        "algo = SVD()\n",
        "cross_validate(algo, sup_data, measures=['RMSE', 'MAE'], cv=5, verbose=True)"
      ],
      "metadata": {
        "colab": {
          "base_uri": "https://localhost:8080/"
        },
        "id": "D62TH0CZQRFg",
        "outputId": "023f8afe-fe6c-4968-e3f1-3a13ee740217"
      },
      "execution_count": null,
      "outputs": [
        {
          "output_type": "stream",
          "name": "stdout",
          "text": [
            "Evaluating RMSE, MAE of algorithm SVD on 5 split(s).\n",
            "\n",
            "                  Fold 1  Fold 2  Fold 3  Fold 4  Fold 5  Mean    Std     \n",
            "RMSE (testset)    0.9405  0.9379  0.9383  0.9350  0.9263  0.9356  0.0050  \n",
            "MAE (testset)     0.7395  0.7384  0.7389  0.7380  0.7314  0.7373  0.0030  \n",
            "Fit time          1.98    1.97    2.12    2.50    1.97    2.11    0.21    \n",
            "Test time         0.19    0.32    0.43    0.17    0.18    0.26    0.10    \n"
          ]
        },
        {
          "output_type": "execute_result",
          "data": {
            "text/plain": [
              "{'test_rmse': array([0.94046995, 0.93787044, 0.93831977, 0.93495705, 0.92626739]),\n",
              " 'test_mae': array([0.73948114, 0.73844513, 0.73892642, 0.73803726, 0.73141751]),\n",
              " 'fit_time': (1.9805586338043213,\n",
              "  1.9659438133239746,\n",
              "  2.1226582527160645,\n",
              "  2.503816604614258,\n",
              "  1.9667842388153076),\n",
              " 'test_time': (0.1868596076965332,\n",
              "  0.3209724426269531,\n",
              "  0.43195152282714844,\n",
              "  0.1681206226348877,\n",
              "  0.17647385597229004)}"
            ]
          },
          "metadata": {},
          "execution_count": 96
        }
      ]
    },
    {
      "cell_type": "code",
      "source": [
        "print_predict()"
      ],
      "metadata": {
        "colab": {
          "base_uri": "https://localhost:8080/"
        },
        "id": "OvLL-iaTQTTm",
        "outputId": "ff0cf9d2-5b77-4f69-dd16-60f764e71f5a"
      },
      "execution_count": null,
      "outputs": [
        {
          "output_type": "stream",
          "name": "stdout",
          "text": [
            "user: 880        item: 476        r_ui = 3.00   est = 3.53   {'was_impossible': False}\n"
          ]
        }
      ]
    }
  ]
}